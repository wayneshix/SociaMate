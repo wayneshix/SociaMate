{
 "cells": [
  {
   "cell_type": "code",
   "execution_count": null,
   "id": "b62a811b",
   "metadata": {},
   "outputs": [],
   "source": [
    "import pandas as pd\n",
    "import uuid\n",
    "import os\n",
    "\n",
    "def convert_csv_format(input_csv_path: str, output_folder: str):\n",
    "    # Read the original CSV\n",
    "    df = pd.read_csv(input_csv_path)\n",
    "\n",
    "    # Generate a random channel ID\n",
    "    channel_id = str(uuid.uuid4())\n",
    "\n",
    "    # Rename columns\n",
    "    df = df.rename(columns={\n",
    "        \"Username\": \"user_name\",\n",
    "        \"Content\": \"content\"\n",
    "    })\n",
    "\n",
    "    # Drop unwanted columns if they exist\n",
    "    for col in ['Mentions', 'link']:\n",
    "        if col in df.columns:\n",
    "            df = df.drop(columns=col)\n",
    "\n",
    "    # Add channel_id column\n",
    "    df[\"channel_id\"] = channel_id\n",
    "\n",
    "    # Duplicate user_name into user_id\n",
    "    df[\"user_id\"] = df[\"user_name\"]\n",
    "\n",
    "    # Reorder columns\n",
    "    df = df[[\"channel_id\", \"Date\", \"user_id\", \"user_name\", \"content\"]]\n",
    "\n",
    "    # Export the new CSV\n",
    "    output_path = os.path.join(output_folder, f\"{channel_id}.csv\")\n",
    "    df.to_csv(output_path, index=False)\n",
    "    print(f\"Converted CSV saved to: {output_path}\")"
   ]
  },
  {
   "cell_type": "code",
   "execution_count": 5,
   "id": "163a6338",
   "metadata": {},
   "outputs": [
    {
     "name": "stdout",
     "output_type": "stream",
     "text": [
      "Saved formatted CSV to /Users/way/projects/SociaMate/example data/713207948770429962.csv\n"
     ]
    },
    {
     "data": {
      "text/plain": [
       "'/Users/way/projects/SociaMate/example data/713207948770429962.csv'"
      ]
     },
     "execution_count": 5,
     "metadata": {},
     "output_type": "execute_result"
    }
   ],
   "source": [
    "input_path = '/Users/way/projects/SociaMate/example data/pre-processed/Discord_chat_Wed Jan 01 2025 00_00_00 GMT-0800 (Pacific Standard Time)_Wed May 14 2025 00_00_00 GMT-0700 (Pacific Daylight Time) (1).csv'\n",
    "output_folder = '/Users/way/projects/SociaMate/example data'\n",
    "convert_csv_to_channel_format(input_path, output_folder)"
   ]
  },
  {
   "cell_type": "code",
   "execution_count": null,
   "id": "e62a607c",
   "metadata": {},
   "outputs": [],
   "source": []
  }
 ],
 "metadata": {
  "kernelspec": {
   "display_name": "base",
   "language": "python",
   "name": "python3"
  },
  "language_info": {
   "codemirror_mode": {
    "name": "ipython",
    "version": 3
   },
   "file_extension": ".py",
   "mimetype": "text/x-python",
   "name": "python",
   "nbconvert_exporter": "python",
   "pygments_lexer": "ipython3",
   "version": "3.12.2"
  }
 },
 "nbformat": 4,
 "nbformat_minor": 5
}
